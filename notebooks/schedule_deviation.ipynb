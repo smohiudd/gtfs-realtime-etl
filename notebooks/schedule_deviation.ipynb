{
 "cells": [
  {
   "cell_type": "code",
   "execution_count": 2,
   "id": "7e13eb5e-da86-4181-809a-32d3ee33b3e3",
   "metadata": {},
   "outputs": [],
   "source": [
    "%config SqlMagic.autopandas = True\n",
    "%config SqlMagic.feedback = False\n",
    "%config SqlMagic.displaycon = False"
   ]
  },
  {
   "cell_type": "code",
   "execution_count": 25,
   "id": "e90ba878-38bd-4bce-9e11-7b3d49b0eac2",
   "metadata": {},
   "outputs": [],
   "source": [
    "import duckdb\n",
    "import pandas as pd\n",
    "import geopandas as gpd\n",
    "from shapely import wkt\n",
    "import matplotlib.pyplot as plt"
   ]
  },
  {
   "cell_type": "code",
   "execution_count": 4,
   "id": "4e7ad5b8-bdab-429a-ad29-944a3f9c9e52",
   "metadata": {},
   "outputs": [
    {
     "data": {
      "text/html": [
       "<span style=\"None\">Tip: You may define configurations in /Users/saadiqmohiuddin/Documents/gtfs-realtime-etl/notebooks/pyproject.toml or /Users/saadiqmohiuddin/.jupysql/config. </span>"
      ],
      "text/plain": [
       "Tip: You may define configurations in /Users/saadiqmohiuddin/Documents/gtfs-realtime-etl/notebooks/pyproject.toml or /Users/saadiqmohiuddin/.jupysql/config. "
      ]
     },
     "metadata": {},
     "output_type": "display_data"
    },
    {
     "data": {
      "text/html": [
       "Please review our <a href='https://jupysql.ploomber.io/en/latest/api/configuration.html#loading-from-a-file'>configuration guideline</a>."
      ],
      "text/plain": [
       "<IPython.core.display.HTML object>"
      ]
     },
     "metadata": {},
     "output_type": "display_data"
    },
    {
     "data": {
      "text/html": [
       "<span style=\"None\">Did not find user configurations in /Users/saadiqmohiuddin/Documents/gtfs-realtime-etl/notebooks/pyproject.toml.</span>"
      ],
      "text/plain": [
       "Did not find user configurations in /Users/saadiqmohiuddin/Documents/gtfs-realtime-etl/notebooks/pyproject.toml."
      ]
     },
     "metadata": {},
     "output_type": "display_data"
    }
   ],
   "source": [
    "%load_ext sql\n",
    "conn = duckdb.connect()\n",
    "%sql conn --alias duckdb"
   ]
  },
  {
   "cell_type": "code",
   "execution_count": 5,
   "id": "63cf8a93-a63b-46a4-a14d-c547d0bb16f3",
   "metadata": {},
   "outputs": [
    {
     "data": {
      "text/html": [
       "<div>\n",
       "<style scoped>\n",
       "    .dataframe tbody tr th:only-of-type {\n",
       "        vertical-align: middle;\n",
       "    }\n",
       "\n",
       "    .dataframe tbody tr th {\n",
       "        vertical-align: top;\n",
       "    }\n",
       "\n",
       "    .dataframe thead th {\n",
       "        text-align: right;\n",
       "    }\n",
       "</style>\n",
       "<table border=\"1\" class=\"dataframe\">\n",
       "  <thead>\n",
       "    <tr style=\"text-align: right;\">\n",
       "      <th></th>\n",
       "      <th>Success</th>\n",
       "    </tr>\n",
       "  </thead>\n",
       "  <tbody>\n",
       "  </tbody>\n",
       "</table>\n",
       "</div>"
      ],
      "text/plain": [
       "Empty DataFrame\n",
       "Columns: [Success]\n",
       "Index: []"
      ]
     },
     "execution_count": 5,
     "metadata": {},
     "output_type": "execute_result"
    }
   ],
   "source": [
    "%%sql\n",
    "INSTALL httpfs;\n",
    "LOAD httpfs;\n",
    "INSTALL spatial;\n",
    "LOAD spatial;"
   ]
  },
  {
   "cell_type": "code",
   "execution_count": 6,
   "id": "ede684f3-beab-4421-bf8a-54f6172683d8",
   "metadata": {},
   "outputs": [
    {
     "data": {
      "text/html": [
       "<div>\n",
       "<style scoped>\n",
       "    .dataframe tbody tr th:only-of-type {\n",
       "        vertical-align: middle;\n",
       "    }\n",
       "\n",
       "    .dataframe tbody tr th {\n",
       "        vertical-align: top;\n",
       "    }\n",
       "\n",
       "    .dataframe thead th {\n",
       "        text-align: right;\n",
       "    }\n",
       "</style>\n",
       "<table border=\"1\" class=\"dataframe\">\n",
       "  <thead>\n",
       "    <tr style=\"text-align: right;\">\n",
       "      <th></th>\n",
       "      <th>Success</th>\n",
       "    </tr>\n",
       "  </thead>\n",
       "  <tbody>\n",
       "  </tbody>\n",
       "</table>\n",
       "</div>"
      ],
      "text/plain": [
       "Empty DataFrame\n",
       "Columns: [Success]\n",
       "Index: []"
      ]
     },
     "execution_count": 6,
     "metadata": {},
     "output_type": "execute_result"
    }
   ],
   "source": [
    "%sql SET GLOBAL timezone='America/Toronto';"
   ]
  },
  {
   "cell_type": "code",
   "execution_count": 7,
   "id": "0d965e5d-3f2d-4593-b93a-d3e5657f6315",
   "metadata": {},
   "outputs": [],
   "source": [
    "#Download and unzip merged ttc GTFS data: https://open.toronto.ca/dataset/merged-gtfs-ttc-routes-and-schedules/"
   ]
  },
  {
   "cell_type": "code",
   "execution_count": 28,
   "id": "6f866b02-61a8-47b3-a97d-076371e4a5cd",
   "metadata": {},
   "outputs": [
    {
     "data": {
      "text/html": [
       "<div>\n",
       "<style scoped>\n",
       "    .dataframe tbody tr th:only-of-type {\n",
       "        vertical-align: middle;\n",
       "    }\n",
       "\n",
       "    .dataframe tbody tr th {\n",
       "        vertical-align: top;\n",
       "    }\n",
       "\n",
       "    .dataframe thead th {\n",
       "        text-align: right;\n",
       "    }\n",
       "</style>\n",
       "<table border=\"1\" class=\"dataframe\">\n",
       "  <thead>\n",
       "    <tr style=\"text-align: right;\">\n",
       "      <th></th>\n",
       "      <th>Count</th>\n",
       "    </tr>\n",
       "  </thead>\n",
       "  <tbody>\n",
       "  </tbody>\n",
       "</table>\n",
       "</div>"
      ],
      "text/plain": [
       "Empty DataFrame\n",
       "Columns: [Count]\n",
       "Index: []"
      ]
     },
     "execution_count": 28,
     "metadata": {},
     "output_type": "execute_result"
    }
   ],
   "source": [
    "%%sql\n",
    "CREATE TABLE IF NOT EXISTS trips AS\n",
    "    SELECT * FROM read_csv('data/ttc/trips.txt');\n",
    "\n",
    "CREATE TABLE IF NOT EXISTS stops AS\n",
    "SELECT\n",
    "    *,\n",
    "    ST_Point(stop_lon, stop_lat) AS stop_loc\n",
    "FROM read_csv('data/ttc/stops.txt');\n",
    "\n",
    "CREATE TABLE IF NOT EXISTS routes AS\n",
    "    SELECT * FROM read_csv('data/ttc/routes.txt');\n",
    "\n",
    "CREATE TABLE IF NOT EXISTS shapes AS\n",
    "    SELECT * FROM read_csv('data/ttc/shapes.txt');\n",
    "\n",
    "CREATE TABLE IF NOT EXISTS stop_times AS\n",
    "    SELECT * FROM read_csv('data/ttc/stop_times.txt');"
   ]
  },
  {
   "cell_type": "code",
   "execution_count": null,
   "id": "8fb2762b-7fec-486e-8eae-a566478249c6",
   "metadata": {},
   "outputs": [],
   "source": [
    "#Create view of vehicle positions"
   ]
  },
  {
   "cell_type": "code",
   "execution_count": 19,
   "id": "a904a598-193e-4836-9a2e-932f7c9381db",
   "metadata": {},
   "outputs": [
    {
     "data": {
      "text/html": [
       "<div>\n",
       "<style scoped>\n",
       "    .dataframe tbody tr th:only-of-type {\n",
       "        vertical-align: middle;\n",
       "    }\n",
       "\n",
       "    .dataframe tbody tr th {\n",
       "        vertical-align: top;\n",
       "    }\n",
       "\n",
       "    .dataframe thead th {\n",
       "        text-align: right;\n",
       "    }\n",
       "</style>\n",
       "<table border=\"1\" class=\"dataframe\">\n",
       "  <thead>\n",
       "    <tr style=\"text-align: right;\">\n",
       "      <th></th>\n",
       "      <th>column_name</th>\n",
       "      <th>column_type</th>\n",
       "      <th>null</th>\n",
       "      <th>key</th>\n",
       "      <th>default</th>\n",
       "      <th>extra</th>\n",
       "    </tr>\n",
       "  </thead>\n",
       "  <tbody>\n",
       "    <tr>\n",
       "      <th>0</th>\n",
       "      <td>trip_id</td>\n",
       "      <td>VARCHAR</td>\n",
       "      <td>YES</td>\n",
       "      <td>None</td>\n",
       "      <td>None</td>\n",
       "      <td>None</td>\n",
       "    </tr>\n",
       "    <tr>\n",
       "      <th>1</th>\n",
       "      <td>route_id</td>\n",
       "      <td>VARCHAR</td>\n",
       "      <td>YES</td>\n",
       "      <td>None</td>\n",
       "      <td>None</td>\n",
       "      <td>None</td>\n",
       "    </tr>\n",
       "    <tr>\n",
       "      <th>2</th>\n",
       "      <td>direction_id</td>\n",
       "      <td>VARCHAR</td>\n",
       "      <td>YES</td>\n",
       "      <td>None</td>\n",
       "      <td>None</td>\n",
       "      <td>None</td>\n",
       "    </tr>\n",
       "    <tr>\n",
       "      <th>3</th>\n",
       "      <td>vehicle_id</td>\n",
       "      <td>VARCHAR</td>\n",
       "      <td>YES</td>\n",
       "      <td>None</td>\n",
       "      <td>None</td>\n",
       "      <td>None</td>\n",
       "    </tr>\n",
       "    <tr>\n",
       "      <th>4</th>\n",
       "      <td>bearing</td>\n",
       "      <td>DOUBLE</td>\n",
       "      <td>YES</td>\n",
       "      <td>None</td>\n",
       "      <td>None</td>\n",
       "      <td>None</td>\n",
       "    </tr>\n",
       "    <tr>\n",
       "      <th>5</th>\n",
       "      <td>speed</td>\n",
       "      <td>DOUBLE</td>\n",
       "      <td>YES</td>\n",
       "      <td>None</td>\n",
       "      <td>None</td>\n",
       "      <td>None</td>\n",
       "    </tr>\n",
       "    <tr>\n",
       "      <th>6</th>\n",
       "      <td>timestamp</td>\n",
       "      <td>TIMESTAMP WITH TIME ZONE</td>\n",
       "      <td>YES</td>\n",
       "      <td>None</td>\n",
       "      <td>None</td>\n",
       "      <td>None</td>\n",
       "    </tr>\n",
       "    <tr>\n",
       "      <th>7</th>\n",
       "      <td>geohash</td>\n",
       "      <td>VARCHAR</td>\n",
       "      <td>YES</td>\n",
       "      <td>None</td>\n",
       "      <td>None</td>\n",
       "      <td>None</td>\n",
       "    </tr>\n",
       "    <tr>\n",
       "      <th>8</th>\n",
       "      <td>geometry</td>\n",
       "      <td>GEOMETRY</td>\n",
       "      <td>YES</td>\n",
       "      <td>None</td>\n",
       "      <td>None</td>\n",
       "      <td>None</td>\n",
       "    </tr>\n",
       "    <tr>\n",
       "      <th>9</th>\n",
       "      <td>bbox</td>\n",
       "      <td>STRUCT(xmin DOUBLE, ymin DOUBLE, xmax DOUBLE, ...</td>\n",
       "      <td>YES</td>\n",
       "      <td>None</td>\n",
       "      <td>None</td>\n",
       "      <td>None</td>\n",
       "    </tr>\n",
       "    <tr>\n",
       "      <th>10</th>\n",
       "      <td>day</td>\n",
       "      <td>BIGINT</td>\n",
       "      <td>YES</td>\n",
       "      <td>None</td>\n",
       "      <td>None</td>\n",
       "      <td>None</td>\n",
       "    </tr>\n",
       "    <tr>\n",
       "      <th>11</th>\n",
       "      <td>month</td>\n",
       "      <td>BIGINT</td>\n",
       "      <td>YES</td>\n",
       "      <td>None</td>\n",
       "      <td>None</td>\n",
       "      <td>None</td>\n",
       "    </tr>\n",
       "    <tr>\n",
       "      <th>12</th>\n",
       "      <td>year</td>\n",
       "      <td>BIGINT</td>\n",
       "      <td>YES</td>\n",
       "      <td>None</td>\n",
       "      <td>None</td>\n",
       "      <td>None</td>\n",
       "    </tr>\n",
       "  </tbody>\n",
       "</table>\n",
       "</div>"
      ],
      "text/plain": [
       "     column_name                                        column_type null  \\\n",
       "0        trip_id                                            VARCHAR  YES   \n",
       "1       route_id                                            VARCHAR  YES   \n",
       "2   direction_id                                            VARCHAR  YES   \n",
       "3     vehicle_id                                            VARCHAR  YES   \n",
       "4        bearing                                             DOUBLE  YES   \n",
       "5          speed                                             DOUBLE  YES   \n",
       "6      timestamp                           TIMESTAMP WITH TIME ZONE  YES   \n",
       "7        geohash                                            VARCHAR  YES   \n",
       "8       geometry                                           GEOMETRY  YES   \n",
       "9           bbox  STRUCT(xmin DOUBLE, ymin DOUBLE, xmax DOUBLE, ...  YES   \n",
       "10           day                                             BIGINT  YES   \n",
       "11         month                                             BIGINT  YES   \n",
       "12          year                                             BIGINT  YES   \n",
       "\n",
       "     key default extra  \n",
       "0   None    None  None  \n",
       "1   None    None  None  \n",
       "2   None    None  None  \n",
       "3   None    None  None  \n",
       "4   None    None  None  \n",
       "5   None    None  None  \n",
       "6   None    None  None  \n",
       "7   None    None  None  \n",
       "8   None    None  None  \n",
       "9   None    None  None  \n",
       "10  None    None  None  \n",
       "11  None    None  None  \n",
       "12  None    None  None  "
      ]
     },
     "execution_count": 19,
     "metadata": {},
     "output_type": "execute_result"
    }
   ],
   "source": [
    "%%sql \n",
    "CREATE VIEW IF NOT EXISTS locations AS\n",
    "SELECT * FROM read_parquet('s3://gtfs-rt-etl-data/ttc/positions/year=*/month=*/day=*/*.parquet', hive_partitioning = true);\n",
    "FROM (DESCRIBE locations);\n"
   ]
  },
  {
   "cell_type": "code",
   "execution_count": 20,
   "id": "f1f50273-0a97-4fcf-a1bf-94dad01834a5",
   "metadata": {},
   "outputs": [
    {
     "data": {
      "text/html": [
       "<div>\n",
       "<style scoped>\n",
       "    .dataframe tbody tr th:only-of-type {\n",
       "        vertical-align: middle;\n",
       "    }\n",
       "\n",
       "    .dataframe tbody tr th {\n",
       "        vertical-align: top;\n",
       "    }\n",
       "\n",
       "    .dataframe thead th {\n",
       "        text-align: right;\n",
       "    }\n",
       "</style>\n",
       "<table border=\"1\" class=\"dataframe\">\n",
       "  <thead>\n",
       "    <tr style=\"text-align: right;\">\n",
       "      <th></th>\n",
       "      <th>count_star()</th>\n",
       "    </tr>\n",
       "  </thead>\n",
       "  <tbody>\n",
       "    <tr>\n",
       "      <th>0</th>\n",
       "      <td>1892124</td>\n",
       "    </tr>\n",
       "  </tbody>\n",
       "</table>\n",
       "</div>"
      ],
      "text/plain": [
       "   count_star()\n",
       "0       1892124"
      ]
     },
     "execution_count": 20,
     "metadata": {},
     "output_type": "execute_result"
    }
   ],
   "source": [
    "%sql select count(*) from locations;"
   ]
  },
  {
   "cell_type": "code",
   "execution_count": 21,
   "id": "63902a57-6d30-40c6-8b44-f16ed17a1e5e",
   "metadata": {
    "scrolled": true
   },
   "outputs": [],
   "source": [
    "%%sql stops << SELECT \n",
    "    stop_id,\n",
    "    COUNT(diff) AS count,\n",
    "    AVG(diff) AS avg_diff,\n",
    "    STDDEV(diff) AS stddev_diff,\n",
    "    ST_X(stop_loc) AS long,\n",
    "    ST_Y(stop_loc) AS lat\n",
    "FROM (\n",
    "    SELECT \n",
    "        *,\n",
    "        ROW_NUMBER() OVER (\n",
    "            PARTITION BY trip_id, stop_id, arrival_time, stop_sequence\n",
    "            ORDER BY arrival_time ASC, ABS(diff) ASC\n",
    "        ) AS rn\n",
    "    FROM (\n",
    "        SELECT \n",
    "            X.trip_id,\n",
    "            T.route_short_name,\n",
    "            S.stop_sequence,\n",
    "            S.arrival_time,\n",
    "            DATEDIFF(\n",
    "                'seconds', \n",
    "                strftime(Y.timestamp, '%H:%M:%S')::TIME,\n",
    "                S.arrival_time::TIME\n",
    "            ) AS diff,\n",
    "            S.stop_id,\n",
    "            V.stop_loc\n",
    "        FROM routes AS T\n",
    "        JOIN trips AS X ON T.route_id = X.route_id\n",
    "        JOIN stop_times AS S ON X.trip_id = S.trip_id\n",
    "        JOIN stops AS V ON S.stop_id = V.stop_id\n",
    "        JOIN locations AS Y\n",
    "            ON X.trip_id = Y.trip_id\n",
    "           AND ST_DWithin(Y.geometry, V.stop_loc, 0.0002)\n",
    "        WHERE NOT regexp_matches(S.arrival_time, '^(2[4-9]|3[0-5]):', 'c')\n",
    "    ) AS matched\n",
    "    WHERE diff BETWEEN -600 AND 600 \n",
    ") AS ranked\n",
    "WHERE rn = 1\n",
    "GROUP BY stop_id, stop_loc;"
   ]
  },
  {
   "cell_type": "code",
   "execution_count": 27,
   "id": "16a50aa1-c5f0-404c-adea-6ba6d2eb1520",
   "metadata": {},
   "outputs": [
    {
     "data": {
      "image/png": "[encoded data removed]",
      "text/plain": [
       "<Figure size 640x480 with 1 Axes>"
      ]
     },
     "metadata": {},
     "output_type": "display_data"
    }
   ],
   "source": [
    "stops[\"avg_diff\"].hist(bins=100)\n",
    "plt.title(\"Distribution of Average Schedule Deviation Across All Stops\")\n",
    "plt.xlabel(\"Schedule Deviation (s)\")\n",
    "plt.ylabel(\"Count\")\n",
    "plt.show()"
   ]
  },
  {
   "cell_type": "code",
   "execution_count": null,
   "id": "51fe3898-7581-4bab-8b8b-4f73268b8ba9",
   "metadata": {},
   "outputs": [],
   "source": []
  },
  {
   "cell_type": "code",
   "execution_count": null,
   "id": "38a5c612-22d7-4d8b-a6ce-d18975675ce6",
   "metadata": {},
   "outputs": [],
   "source": []
  },
  {
   "cell_type": "code",
   "execution_count": null,
   "id": "bd0c27cd-aa41-4173-a011-d5f46bf62d35",
   "metadata": {},
   "outputs": [],
   "source": []
  }
 ],
 "metadata": {
  "kernelspec": {
   "display_name": "Python 3 (ipykernel)",
   "language": "python",
   "name": "python3"
  },
  "language_info": {
   "codemirror_mode": {
    "name": "ipython",
    "version": 3
   },
   "file_extension": ".py",
   "mimetype": "text/x-python",
   "name": "python",
   "nbconvert_exporter": "python",
   "pygments_lexer": "ipython3",
   "version": "3.13.3"
  }
 },
 "nbformat": 4,
 "nbformat_minor": 5
}
