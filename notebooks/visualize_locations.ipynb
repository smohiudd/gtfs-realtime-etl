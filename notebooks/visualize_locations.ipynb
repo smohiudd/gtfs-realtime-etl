{
 "cells": [
  {
   "cell_type": "code",
   "execution_count": 1,
   "id": "cbe776c0-5e1c-4f27-8032-e28ce2657c55",
   "metadata": {},
   "outputs": [],
   "source": [
    "from lonboard import Map, ScatterplotLayer\n",
    "\n",
    "import duckdb"
   ]
  },
  {
   "cell_type": "code",
   "execution_count": 2,
   "id": "d362e647-473f-429c-9154-2d1a4137a009",
   "metadata": {},
   "outputs": [],
   "source": [
    "conn = duckdb.connect()\n",
    "duckdb.install_extension(\"spatial\", connection=conn)\n",
    "duckdb.load_extension(\"spatial\", connection=conn)"
   ]
  },
  {
   "cell_type": "code",
   "execution_count": 4,
   "id": "e46a436b-253e-4e48-baf7-b4fe83bafb05",
   "metadata": {},
   "outputs": [
    {
     "data": {
      "text/plain": [
       "<_duckdb.DuckDBPyConnection at 0x1042afa70>"
      ]
     },
     "execution_count": 4,
     "metadata": {},
     "output_type": "execute_result"
    }
   ],
   "source": [
    "sql = \"\"\"\n",
    "CREATE VIEW IF NOT EXISTS locations AS\n",
    "SELECT * FROM read_parquet('s3://gtfs-rt-etl-data/ttc/positions/year=*/month=*/day=*/*.parquet', hive_partitioning = true)\n",
    "WHERE month=10 AND day=23;\n",
    "\"\"\"\n",
    "conn.execute(sql)"
   ]
  },
  {
   "cell_type": "code",
   "execution_count": 6,
   "id": "5aa4a3cd-c0d5-40cf-ab6d-9cbd7da625c6",
   "metadata": {},
   "outputs": [
    {
     "data": {
      "application/vnd.jupyter.widget-view+json": {
       "model_id": "58d313e5c26748ae97a555579b46f350",
       "version_major": 2,
       "version_minor": 0
      },
      "text/plain": [
       "FloatProgress(value=0.0, layout=Layout(width='auto'), style=ProgressStyle(bar_color='black'))"
      ]
     },
     "metadata": {},
     "output_type": "display_data"
    },
    {
     "data": {
      "application/vnd.jupyter.widget-view+json": {
       "model_id": "545bcca485d446218c61cfd19f690a7e",
       "version_major": 2,
       "version_minor": 0
      },
      "text/plain": [
       "FloatProgress(value=0.0, layout=Layout(width='auto'), style=ProgressStyle(bar_color='black'))"
      ]
     },
     "metadata": {},
     "output_type": "display_data"
    },
    {
     "name": "stderr",
     "output_type": "stream",
     "text": [
      "/Users/saadiqmohiuddin/Documents/gtfs-realtime-etl/notebooks/.venv/lib/python3.13/site-packages/lonboard/_geoarrow/ops/reproject.py:40: UserWarning: No CRS exists on data. If no data is shown on the map, double check that your CRS is WGS84.\n",
      "  warn(\n"
     ]
    }
   ],
   "source": [
    "layer = ScatterplotLayer.from_duckdb(\n",
    "    conn.table(\"locations\"), \n",
    "    conn,\n",
    "    get_fill_color=[255, 0, 0]\n",
    ")"
   ]
  },
  {
   "cell_type": "code",
   "execution_count": 8,
   "id": "8c091752-5f84-423d-bd83-a8d6589767ef",
   "metadata": {},
   "outputs": [
    {
     "data": {
      "application/vnd.jupyter.widget-view+json": {
       "model_id": "52606530bfec4148b339e1539175007b",
       "version_major": 2,
       "version_minor": 1
      },
      "text/plain": [
       "Map(custom_attribution='', height='600px', layers=(ScatterplotLayer(get_fill_color=[255, 0, 0], table=arro3.co…"
      ]
     },
     "execution_count": 8,
     "metadata": {},
     "output_type": "execute_result"
    }
   ],
   "source": [
    "m = Map(\n",
    "    layer,\n",
    "    view_state={\"longitude\": -79.38639, \"latitude\": 43.662535, \"zoom\": 16},\n",
    "    height=600\n",
    ")\n",
    "m"
   ]
  },
  {
   "cell_type": "code",
   "execution_count": null,
   "id": "e746b59c-6c7c-4a0a-b47f-5884eece1349",
   "metadata": {},
   "outputs": [],
   "source": []
  },
  {
   "cell_type": "code",
   "execution_count": null,
   "id": "4cbcfb20-133c-486d-af0c-8cf763b35107",
   "metadata": {},
   "outputs": [],
   "source": []
  }
 ],
 "metadata": {
  "kernelspec": {
   "display_name": "Python 3 (ipykernel)",
   "language": "python",
   "name": "python3"
  },
  "language_info": {
   "codemirror_mode": {
    "name": "ipython",
    "version": 3
   },
   "file_extension": ".py",
   "mimetype": "text/x-python",
   "name": "python",
   "nbconvert_exporter": "python",
   "pygments_lexer": "ipython3",
   "version": "3.13.3"
  }
 },
 "nbformat": 4,
 "nbformat_minor": 5
}
